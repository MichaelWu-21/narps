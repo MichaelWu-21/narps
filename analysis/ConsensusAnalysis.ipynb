{
 "cells": [
  {
   "cell_type": "markdown",
   "metadata": {},
   "source": [
    "### Consensus meta-analysis\n",
    "\n"
   ]
  },
  {
   "cell_type": "code",
   "execution_count": null,
   "metadata": {},
   "outputs": [],
   "source": [
    "import os\n",
    "import nipype.interfaces.fsl as fsl\n",
    "import nibabel\n",
    "import nilearn.plotting\n",
    "import matplotlib.pyplot as plt\n",
    "\n",
    "%matplotlib inline\n",
    "\n",
    "orig_dir = '/Users/poldrack/data_unsynced/NARPS/maps/orig'\n",
    "output_dir = '/Users/poldrack/data_unsynced/NARPS/maps'\n",
    "template_img = os.path.join(output_dir,'templates/MNI152_T1_2mm.nii.gz')\n",
    "mask_img = os.path.join(output_dir,'templates/MNI152_T1_2mm_brain_mask.nii.gz')\n",
    "figure_dir = os.path.join(output_dir,'figures')\n",
    "\n",
    "\n"
   ]
  },
  {
   "cell_type": "code",
   "execution_count": null,
   "metadata": {},
   "outputs": [],
   "source": [
    "for hyp in [1,2,5,6,7,8,9]:\n",
    "    rand = fsl.Randomise(in_file=os.path.join(output_dir,'unthresh_concat/hypo%d.nii.gz'%hyp), \n",
    "                         mask = mask_img,\n",
    "                        base_name=os.path.join(output_dir,'unthresh_randomise/hypo%d'%hyp),\n",
    "                        num_perm=2500,c_thresh=3,\n",
    "                        one_sample_group_mean=True,tfce=True,var_smooth=True)\n",
    "    print(rand.cmdline)\n",
    "    rand.run()"
   ]
  },
  {
   "cell_type": "code",
   "execution_count": null,
   "metadata": {},
   "outputs": [],
   "source": [
    "\n",
    "\n",
    "fig, ax = plt.subplots(7,1,figsize=(12,24))\n",
    "thresh=0.95\n",
    "hypnums=[1,2,5,6,7,8,9]\n",
    "cut_coords = [-24,-10,4,18,32,52,64]\n",
    "hypotheses= {1:'+gain: equal indiff',\n",
    "            2:'+gain: equal range',\n",
    "            3:'+gain: equal indiff',\n",
    "            4:'+gain: equal range',\n",
    "            5:'-loss: equal indiff',\n",
    "            6:'-loss: equal range',\n",
    "            7:'+loss: equal indiff',\n",
    "            8:'+loss: equal range',\n",
    "            9:'+loss:ER>EI'}\n",
    "\n",
    "for i,hyp in enumerate(hypnums):\n",
    "    pmap = os.path.join(output_dir,'unthresh_randomise/hypo%d_clustere_corrp_tstat1.nii.gz'%hyp)\n",
    "    tmap =  os.path.join(output_dir,'unthresh_randomise/hypo%d_tstat1.nii.gz'%hyp)\n",
    "    pimg = nibabel.load(pmap)\n",
    "    timg = nibabel.load(tmap)\n",
    "    threshdata = (pimg.get_data()>thresh)*timg.get_data()\n",
    "    threshimg = nibabel.Nifti1Image(threshdata,affine=timg.affine)\n",
    "    nilearn.plotting.plot_stat_map(threshimg, threshold=0.1, display_mode=\"z\", \n",
    "                colorbar=True,title='hyp %d:'%hyp+hypotheses[hyp],vmax=8,cmap='jet',\n",
    "                                  cut_coords = cut_coords,axes = ax[i])\n",
    "\n",
    "plt.savefig(os.path.join(figure_dir,'consensus_map.pdf'))\n"
   ]
  },
  {
   "cell_type": "code",
   "execution_count": null,
   "metadata": {},
   "outputs": [],
   "source": []
  }
 ],
 "metadata": {
  "kernelspec": {
   "display_name": "Python 3",
   "language": "python",
   "name": "python3"
  },
  "language_info": {
   "codemirror_mode": {
    "name": "ipython",
    "version": 3
   },
   "file_extension": ".py",
   "mimetype": "text/x-python",
   "name": "python",
   "nbconvert_exporter": "python",
   "pygments_lexer": "ipython3",
   "version": "3.6.8"
  }
 },
 "nbformat": 4,
 "nbformat_minor": 2
}
