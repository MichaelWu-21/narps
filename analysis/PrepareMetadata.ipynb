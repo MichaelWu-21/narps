{
 "cells": [
  {
   "cell_type": "markdown",
   "metadata": {},
   "source": [
    "## Prepare metadata\n",
    "\n",
    "This notebook consolidates the preparation of metadata for the analyses. It requires that narps.py or PrepareMaps.ipynb has already been run.\n"
   ]
  },
  {
   "cell_type": "code",
   "execution_count": 1,
   "metadata": {},
   "outputs": [
    {
     "name": "stderr",
     "output_type": "stream",
     "text": [
      "/Users/poldrack/anaconda3/envs/py36/lib/python3.6/site-packages/sklearn/externals/joblib/__init__.py:15: DeprecationWarning: sklearn.externals.joblib is deprecated in 0.21 and will be removed in 0.23. Please import this functionality directly from joblib, which can be installed with: pip install joblib. If this warning is raised when loading pickled models, you may need to re-serialize those models with scikit-learn 0.21+.\n",
      "  warnings.warn(msg, category=DeprecationWarning)\n",
      "/Users/poldrack/anaconda3/envs/py36/lib/python3.6/site-packages/matplotlib/__init__.py:886: MatplotlibDeprecationWarning: \n",
      "examples.directory is deprecated; in the future, examples will be found relative to the 'datapath' directory.\n",
      "  \"found relative to the 'datapath' directory.\".format(key))\n"
     ]
    }
   ],
   "source": [
    "import os,sys,glob,warnings\n",
    "import matplotlib.pyplot as plt\n",
    "import numpy,pandas\n",
    "import nilearn.input_data\n",
    "\n",
    "from narps import Narps\n",
    "from utils import get_merged_metadata_decisions\n",
    "\n",
    "# set up directories\n",
    "basedir='/Users/poldrack/data_unsynced/NARPS'\n",
    "\n",
    "metadata_dir = os.path.join(basedir,'metadata')\n",
    "if not os.path.exists(metadata_dir):\n",
    "    os.mkdir(metadata_dir)"
   ]
  },
  {
   "cell_type": "code",
   "execution_count": 2,
   "metadata": {},
   "outputs": [
    {
     "name": "stdout",
     "output_type": "stream",
     "text": [
      "found 54 input directories\n",
      "found 54 teams with complete original datasets\n",
      "teams with missing zstat images:\n",
      "{'I9D6': [1, 2, 3, 4, 5, 6, 7, 8, 9]}\n"
     ]
    }
   ],
   "source": [
    "narps = Narps(basedir,overwrite=False)\n",
    "narps.load_data()\n",
    "\n",
    "# check zstat data\n",
    "missing_zstat = {}\n",
    "for teamID in narps.complete_image_sets:\n",
    "    for hyp in range(1,10):\n",
    "        if not hyp in narps.teams[teamID].images['unthresh']['zstat']:\n",
    "            if not teamID in missing_zstat:\n",
    "                missing_zstat[teamID]=[]\n",
    "            missing_zstat[teamID].append(hyp)\n",
    "        \n",
    "print('teams with missing zstat images:')\n",
    "print(missing_zstat)"
   ]
  },
  {
   "cell_type": "code",
   "execution_count": 3,
   "metadata": {},
   "outputs": [
    {
     "name": "stdout",
     "output_type": "stream",
     "text": [
      "found merged metadata for 70 teams\n"
     ]
    },
    {
     "name": "stderr",
     "output_type": "stream",
     "text": [
      "/Users/poldrack/Dropbox/code/narps/analysis/utils.py:113: FutureWarning: 'teamID' is both an index level and a column label.\n",
      "Defaulting to column, but this will raise an ambiguity error in a future version\n",
      "  alldata_df = decision_df.merge(metadata,on='teamID',how='left')\n"
     ]
    }
   ],
   "source": [
    "# get original image and decision metadata\n",
    "alldata_df = get_merged_metadata_decisions()\n",
    "print('found merged metadata for %d teams'%alldata_df.teamID.unique().shape[0])\n"
   ]
  },
  {
   "cell_type": "code",
   "execution_count": 4,
   "metadata": {},
   "outputs": [],
   "source": [
    "# change type of varnum to int\n",
    "alldata_df['varnum']=alldata_df['varnum'].astype('int')\n",
    "\n",
    "# recode variables to make analysis cleaner\n",
    "\n",
    "def package_recoder(p):\n",
    "    others = ['nistats','PALM','randomise']\n",
    "    if not isinstance(p,str):\n",
    "        return('Other')\n",
    "    if p.find('SPM')==0:\n",
    "        return('SPM')\n",
    "    elif p in others:\n",
    "        return('Other')\n",
    "    else:\n",
    "        return p\n",
    "\n",
    "alldata_df['software'] = [package_recoder(x) for x in alldata_df['TSc_SW']]\n",
    "\n"
   ]
  },
  {
   "cell_type": "code",
   "execution_count": 5,
   "metadata": {},
   "outputs": [
    {
     "name": "stdout",
     "output_type": "stream",
     "text": [
      "found smoothness data for 53 teams\n",
      "missing smoothness data for:\n",
      "{'16IN'}\n"
     ]
    }
   ],
   "source": [
    "# load smoothness data and \n",
    "smoothness_df = pandas.read_csv(os.path.join(metadata_dir,'smoothness_est.csv'))\n",
    "\n",
    "print(\"found smoothness data for %d teams\"%len(smoothness_df.teamID.unique()))\n",
    "print('missing smoothness data for:')\n",
    "print(set(narps.complete_image_sets).difference(set(smoothness_df.teamID.unique())))\n",
    "\n",
    "# 16IN: used nonstandard stats, not usable for group analysis\n",
    "\n",
    "alldata_df = pandas.merge(alldata_df,smoothness_df,how='left',\n",
    "                          left_on=['teamID','varnum'],right_on=['teamID','hyp'])\n",
    "\n",
    "# average FWHM estimated as:\n",
    "# AvgFWHM = RESELS^(1/3) (multplied by 2 since this value is in voxels rather than mm)\n",
    "# per: https://www.jiscmail.ac.uk/cgi-bin/webadmin?A2=FSL;e792b5da.0803\n",
    "\n",
    "alldata_df['fwhm'] = [i**(1/3.)*2 for i in alldata_df.resels]"
   ]
  },
  {
   "cell_type": "code",
   "execution_count": 7,
   "metadata": {},
   "outputs": [],
   "source": [
    "# save data for loading into R\n",
    "alldata_df.to_csv(os.path.join(metadata_dir,'all_metadata.csv'))"
   ]
  },
  {
   "cell_type": "code",
   "execution_count": null,
   "metadata": {},
   "outputs": [],
   "source": []
  }
 ],
 "metadata": {
  "kernelspec": {
   "display_name": "Python 3",
   "language": "python",
   "name": "python3"
  },
  "language_info": {
   "codemirror_mode": {
    "name": "ipython",
    "version": 3
   },
   "file_extension": ".py",
   "mimetype": "text/x-python",
   "name": "python",
   "nbconvert_exporter": "python",
   "pygments_lexer": "ipython3",
   "version": "3.6.8"
  }
 },
 "nbformat": 4,
 "nbformat_minor": 2
}
